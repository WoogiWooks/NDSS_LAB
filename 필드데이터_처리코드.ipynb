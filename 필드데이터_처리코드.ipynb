{
  "nbformat": 4,
  "nbformat_minor": 0,
  "metadata": {
    "colab": {
      "name": "필드데이터 처리 4차 코드(평균치)",
      "provenance": [],
      "collapsed_sections": [],
      "authorship_tag": "ABX9TyNlZPo4cNxjvugNxzzsvoPz",
      "include_colab_link": true
    },
    "kernelspec": {
      "name": "python3",
      "display_name": "Python 3"
    },
    "language_info": {
      "name": "python"
    }
  },
  "cells": [
    {
      "cell_type": "markdown",
      "metadata": {
        "id": "view-in-github",
        "colab_type": "text"
      },
      "source": [
        "<a href=\"https://colab.research.google.com/github/WoogiWooks/NDSS_LAB/blob/main/%ED%95%84%EB%93%9C%EB%8D%B0%EC%9D%B4%ED%84%B0_%EC%B2%98%EB%A6%AC%EC%BD%94%EB%93%9C.ipynb\" target=\"_parent\"><img src=\"https://colab.research.google.com/assets/colab-badge.svg\" alt=\"Open In Colab\"/></a>"
      ]
    },
    {
      "cell_type": "code",
      "metadata": {
        "colab": {
          "base_uri": "https://localhost:8080/"
        },
        "id": "tUqjwYwrg-El",
        "outputId": "e3528d0f-9bd1-4346-b7bb-ee5e296d5c2a"
      },
      "source": [
        "from google.colab import drive\n",
        "drive.mount('/content/drive')"
      ],
      "execution_count": null,
      "outputs": [
        {
          "output_type": "stream",
          "text": [
            "Mounted at /content/drive\n"
          ],
          "name": "stdout"
        }
      ]
    },
    {
      "cell_type": "markdown",
      "metadata": {
        "id": "-7Ygva_xiaW8"
      },
      "source": [
        "## 스펙트럼 데이터 뽑아내기"
      ]
    },
    {
      "cell_type": "code",
      "metadata": {
        "id": "4jHEyaPhhCrU"
      },
      "source": [
        "# 총합본!!!!!\n",
        "# 실행 전 마운트 필요\n",
        "\n",
        "\n",
        "\n",
        "import pandas as pd\n",
        "import os\n",
        "import glob\n",
        "\n",
        "\n",
        "\n",
        "# 엑셀 파일의 위치 경로설정\n",
        "# 경로 확인  # 파일이 아닌 폴더경로로\n",
        "directory = '/content/drive/MyDrive/Field/raw_data/20210819_Field1'\n",
        "data_list = glob.glob(os.path.join(directory, '*.dat'))\n",
        "\n",
        "allData = []\n",
        "for file in data_list:\n",
        "  df = pd.read_csv(file, sep=\"\t\", encoding=\"utf-16\", header=None)\n",
        "  allData.append(df)\n",
        "F1 = pd.concat(allData, axis=0,  ignore_index=True)\n",
        "\n",
        "\n",
        "\n",
        "# 레퍼런스와 스펙데이터 나누기\n",
        "# 해당 단어가 포함되도록 레퍼런스 이름 설정해줘야\n",
        "# 레퍼런스 = F_WR\n",
        "# 스펙 데이터 = F1\n",
        "F_WR = F1[F1[0].str.contains('white', case=False) | F1[0].str.contains('wr', case=False) | F1[0].str.contains('w', case=False) ]\n",
        "F_WR = F_WR.reset_index()\n",
        "F_WR = F_WR.drop(columns='index')\n",
        "\n",
        "F1 =  F1[~F1[0].str.contains('white', case=False) & ~F1[0].str.contains('wr', case=False) & ~F1[0].str.contains('w', case=False) ]\n",
        "F1 = F1.reset_index()\n",
        "F1 = F1.drop(columns='index')\n",
        "\n",
        "\n",
        "\n",
        "# 데이터 필드포인트별로 각각 나눠주기\n",
        "n=0          \n",
        "for i in range(0, F1.shape[0]//2151):\n",
        "  A=2151*(i+1)\n",
        "  globals()['F1_{0}'.format(i)] = F1.loc[n:A-1]\n",
        "  n = A\n",
        "\n",
        "\n",
        "\n",
        "# 전치행렬로 변환\n",
        "for i in range(0, F1.shape[0]//2151):\n",
        "   globals()['F1_{0}'.format(i)] = globals()['F1_{0}'.format(i)].T\n",
        "\n",
        "\n",
        "\n",
        "# 데이터별 컬럼명 350~2500로 바꿔주기\n",
        "for i in range(0, F1.shape[0]//2151):\n",
        "  globals()['F1_{0}'.format(i)].columns = list(range (350, 2501))\n",
        "\n",
        "\n",
        "\n",
        "# 필드 정보를 column 데이터로 만든 뒤 인덱스로 변환\n",
        "for i in range(0, F1.shape[0]//2151):\n",
        "  Inform =  globals()['F1_{0}'.format(i)].iloc[0,0]\n",
        "  Inform = Inform[11:-4]\n",
        "  globals()['F1_{0}'.format(i)][\"inform\"] = Inform\n",
        "  globals()['F1_{0}'.format(i)] = globals()['F1_{0}'.format(i)].drop(index=[0, 1, 2])\n",
        "  col1 = globals()['F1_{0}'.format(i)].columns[-1:].to_list()\n",
        "  col2 = globals()['F1_{0}'.format(i)].columns[:-1].to_list()\n",
        "  new_col = col1 + col2\n",
        "  globals()['F1_{0}'.format(i)] = globals()['F1_{0}'.format(i)][new_col]\n",
        "  globals()['F1_{0}'.format(i)].set_index(\"inform\", inplace=True)\n",
        "\n",
        "\n",
        "\n",
        "# 데이터들 하나로 병합\n",
        "Result = pd.concat([F1_0, F1_1])\n",
        "for i in range(1,(F1.shape[0]//2151)-1):\n",
        "  Result = pd.concat([Result, globals()['F1_{0}'.format(i+1)]])\n",
        "\n",
        "\n",
        "\n",
        "# 데이터가 총 몇개인지 Result로 부터 가져옴\n",
        "Total_Num = Result.shape[0]   \n",
        "Sep_Num = int((Total_Num)/4)   # 하나 데이터에 4번촬영했으므로 4로 나눔\n",
        "Sep_Num                                    # 촬영지역 개수\n",
        "\n",
        "\n",
        "\n",
        "# 묶기\n",
        "n=0\n",
        "for i in range (1, Sep_Num+1):\n",
        "  globals()['F1_new_{0}'.format(i)] = pd.concat([globals()['F1_{0}'.format(n)], globals()['F1_{0}'.format(n+1)], globals()['F1_{0}'.format(n+2)], globals()['F1_{0}'.format(n+3)]])\n",
        "  n+=4\n",
        "\n",
        "\n",
        "\n",
        "# 평균치 구해서 데이터에 붙여주기\n",
        "for i in range(1, Sep_Num+1):\n",
        "  name = globals()['F1_new_{0}'.format(i)].index[0]\n",
        "  name = name[0:-1] + \"mean\"\n",
        "  \n",
        "  globals()['F1_new_{0}_mean'.format(i)] = pd.DataFrame(globals()['F1_new_{0}'.format(i)].mean())\n",
        "  globals()['F1_new_{0}_mean'.format(i)] = globals()['F1_new_{0}_mean'.format(i)].T.rename(index={0:name})\n",
        "  globals()['F1_new_{0}'.format(i)] = pd.concat([globals()['F1_new_{0}'.format(i)], globals()['F1_new_{0}_mean'.format(i)]])\n",
        "\n",
        "\n",
        "\n",
        "# 평균치 붙은 데이터들 총 통합\n",
        "New_Result = pd.concat([F1_new_1, F1_new_2])\n",
        "for i in range(3, Sep_Num+1):\n",
        "  New_Result = pd.concat([New_Result, globals()['F1_new_{0}'.format(i)]])\n",
        "\n",
        "\n",
        "\n",
        "# 저장\n",
        "# 파일명 설정\n",
        "new_dr = '/content/drive/MyDrive/Field/prepro_data/20210819&20'\n",
        "if not os.path.exists(new_dr):\n",
        "  os.mkdir(new_dr)\n",
        "with pd.ExcelWriter(os.path.join(new_dr, '20210820_Field2_정리.xlsx')) as writer:\n",
        "  New_Result.to_excel(writer)"
      ],
      "execution_count": null,
      "outputs": []
    },
    {
      "cell_type": "markdown",
      "metadata": {
        "id": "-5YOS7koida0"
      },
      "source": [
        "## 레퍼런스 데이터 뽑아내기"
      ]
    },
    {
      "cell_type": "code",
      "metadata": {
        "id": "JpdU70HtjHGE"
      },
      "source": [
        "# 데이터 필드포인트별로 각각 나눠주기\n",
        "n=0\n",
        "F_WR_list = []\n",
        "for i in range(0, F_WR.shape[0]//2151):\n",
        "  A=2151*(i+1)\n",
        "  globals()['F_WR_{0}'.format(i)] = F_WR.loc[n:A-1]\n",
        "  F_WR_list.append('F_WR_{0}'.format(i))\n",
        "  n = A\n",
        "\n",
        "\n",
        "\n",
        "# 전치행렬로 변환\n",
        "for i in range(0, F_WR.shape[0]//2151):\n",
        "  globals()['F_WR_{0}'.format(i)] = globals()['F_WR_{0}'.format(i)].T\n",
        "\n",
        "\n",
        "\n",
        "# 데이터별 컬럼명 350~2500로 바꿔주기\n",
        "for i in range(0, F_WR.shape[0]//2151):\n",
        "  globals()['F_WR_{0}'.format(i)].columns = list(range (350, 2501))\n",
        "\n",
        "\n",
        "\n",
        "# 필드 정보를 column 데이터로 만든 뒤 인덱스로 변환\n",
        "for i in range(0, F_WR.shape[0]//2151):\n",
        "  Inform =  globals()['F_WR_{0}'.format(i)].iloc[0,0]\n",
        "  Inform = Inform[11:-4]\n",
        "  globals()['F_WR_{0}'.format(i)][\"inform\"] = Inform\n",
        "  globals()['F_WR_{0}'.format(i)] = globals()['F_WR_{0}'.format(i)].drop(index=[0, 1, 2])\n",
        "  col1 = globals()['F_WR_{0}'.format(i)].columns[-1:].to_list()\n",
        "  col2 = globals()['F_WR_{0}'.format(i)].columns[:-1].to_list()\n",
        "  new_col = col1 + col2\n",
        "  globals()['F_WR_{0}'.format(i)] = globals()['F_WR_{0}'.format(i)][new_col]\n",
        "  globals()['F_WR_{0}'.format(i)].set_index(\"inform\", inplace=True)\n",
        "\n",
        "\n",
        "\n",
        "# 데이터들 하나로 병합\n",
        "if 'F_WR_1' in F_WR_list:\n",
        "  Result = pd.concat([F_WR_0, F_WR_1])\n",
        "  for i in range(1,(F_WR.shape[0]//2151)-1):\n",
        "    Result = pd.concat([Result, globals()['F_WR_{0}'.format(i+1)]])\n",
        "else: \n",
        "  Result = F_WR_0\n",
        "\n",
        "\n",
        "\n",
        "# 저장\n",
        "# 파일명 설정\n",
        "new_dr = '/content/drive/MyDrive/Field/prepro_data/20210819&20'\n",
        "if not os.path.exists(new_dr):\n",
        "  os.mkdir(new_dr)\n",
        "with pd.ExcelWriter(os.path.join(new_dr, '20210820_Field2_WR.xlsx')) as writer:\n",
        "  Result.to_excel(writer)"
      ],
      "execution_count": null,
      "outputs": []
    }
  ]
}