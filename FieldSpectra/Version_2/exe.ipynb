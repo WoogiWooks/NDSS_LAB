{
  "nbformat": 4,
  "nbformat_minor": 0,
  "metadata": {
    "colab": {
      "name": "exe.ipynb",
      "provenance": [],
      "collapsed_sections": []
    },
    "kernelspec": {
      "name": "python3",
      "display_name": "Python 3"
    },
    "language_info": {
      "name": "python"
    }
  },
  "cells": [
    {
      "cell_type": "code",
      "execution_count": 1,
      "metadata": {
        "colab": {
          "base_uri": "https://localhost:8080/"
        },
        "id": "rYLPu9kHElPL",
        "outputId": "8fbf3550-b9d4-4bd7-ad27-aaf2b1a6e803"
      },
      "outputs": [
        {
          "output_type": "stream",
          "name": "stdout",
          "text": [
            "Mounted at /content/drive\n"
          ]
        }
      ],
      "source": [
        "from google.colab import drive\n",
        "drive.mount('/content/drive')"
      ]
    },
    {
      "cell_type": "code",
      "source": [
        "cd /content/drive/MyDrive/FieldSpectra/연습"
      ],
      "metadata": {
        "colab": {
          "base_uri": "https://localhost:8080/"
        },
        "id": "c3DYm8ynEpnL",
        "outputId": "5d8e53f1-20e7-4d50-b4c7-77509e9288bc"
      },
      "execution_count": 65,
      "outputs": [
        {
          "output_type": "stream",
          "name": "stdout",
          "text": [
            "/content/drive/MyDrive/FieldSpectra/연습\n"
          ]
        }
      ]
    },
    {
      "cell_type": "code",
      "source": [
        "!python main.py -h"
      ],
      "metadata": {
        "colab": {
          "base_uri": "https://localhost:8080/"
        },
        "id": "ETrCGmFzE1Gj",
        "outputId": "9d919c0d-e287-466b-c4f2-0c82e3da0e15"
      },
      "execution_count": 3,
      "outputs": [
        {
          "output_type": "stream",
          "name": "stdout",
          "text": [
            "usage: main.py [-h] [--data_dir DATA_DIR] [--num_shots NUM_SHOTS]\n",
            "               [--save_dir SAVE_DIR] [--save_name SAVE_NAME]\n",
            "               [--save_name_wr SAVE_NAME_WR]\n",
            "\n",
            "Field Spectra to Excel\n",
            "\n",
            "optional arguments:\n",
            "  -h, --help            show this help message and exit\n",
            "  --data_dir DATA_DIR   Directory where the data is located\n",
            "  --num_shots NUM_SHOTS\n",
            "                        Number of shots per Depth\n",
            "  --save_dir SAVE_DIR   Directory where the data is saved\n",
            "  --save_name SAVE_NAME\n",
            "                        Name of field data what you save\n",
            "  --save_name_wr SAVE_NAME_WR\n",
            "                        Name of WR data what you save\n"
          ]
        }
      ]
    },
    {
      "cell_type": "code",
      "source": [
        "!python main.py --num_shots 10 --save_name Test --save_name_wr Test_WR"
      ],
      "metadata": {
        "id": "CMDp09bHE33r"
      },
      "execution_count": 67,
      "outputs": []
    }
  ]
}