{
  "nbformat": 4,
  "nbformat_minor": 0,
  "metadata": {
    "colab": {
      "name": "exe",
      "provenance": [],
      "collapsed_sections": []
    },
    "kernelspec": {
      "name": "python3",
      "display_name": "Python 3"
    },
    "language_info": {
      "name": "python"
    }
  },
  "cells": [
    {
      "cell_type": "code",
      "execution_count": null,
      "metadata": {
        "colab": {
          "base_uri": "https://localhost:8080/"
        },
        "id": "3VOhNshbEkZW",
        "outputId": "fa9c8c3b-763a-4df3-d40b-87815f4b4dbf"
      },
      "outputs": [
        {
          "output_type": "stream",
          "name": "stdout",
          "text": [
            "Mounted at /content/drive\n"
          ]
        }
      ],
      "source": [
        "from google.colab import drive\n",
        "drive.mount('/content/drive')"
      ]
    },
    {
      "cell_type": "code",
      "source": [
        "cd /content/drive/MyDrive/FieldSpectra"
      ],
      "metadata": {
        "colab": {
          "base_uri": "https://localhost:8080/"
        },
        "id": "H7i0SVbtE398",
        "outputId": "0e7a7472-5109-4bee-f015-e3270d1b0812"
      },
      "execution_count": null,
      "outputs": [
        {
          "output_type": "stream",
          "name": "stdout",
          "text": [
            "/content/drive/MyDrive/FieldSpectra\n"
          ]
        }
      ]
    },
    {
      "cell_type": "code",
      "source": [
        "!python main.py -h"
      ],
      "metadata": {
        "colab": {
          "base_uri": "https://localhost:8080/"
        },
        "id": "VTfs78GGMaNl",
        "outputId": "b1b0eadf-fb27-46b9-87c8-0ca31abb0a3e"
      },
      "execution_count": null,
      "outputs": [
        {
          "output_type": "stream",
          "name": "stdout",
          "text": [
            "usage: main.py [-h] [--data_dir DATA_DIR] [--num_shots NUM_SHOTS]\n",
            "               [--save_dir SAVE_DIR] [--save_name SAVE_NAME]\n",
            "               [--save_name_wr SAVE_NAME_WR]\n",
            "\n",
            "Field Spectra to Excel\n",
            "\n",
            "optional arguments:\n",
            "  -h, --help            show this help message and exit\n",
            "  --data_dir DATA_DIR   Directory where the data is located\n",
            "  --num_shots NUM_SHOTS\n",
            "                        Number of shots per Depth\n",
            "  --save_dir SAVE_DIR   Directory where the data is saved\n",
            "  --save_name SAVE_NAME\n",
            "                        Name of field data what you save\n",
            "  --save_name_wr SAVE_NAME_WR\n",
            "                        Name of WR data what you save\n"
          ]
        }
      ]
    },
    {
      "cell_type": "code",
      "source": [
        "!python main.py --num_shots 10 --save_name Test --save_name_wr Test_WR"
      ],
      "metadata": {
        "id": "hEW6_cw9FPhd"
      },
      "execution_count": null,
      "outputs": []
    }
  ]
}